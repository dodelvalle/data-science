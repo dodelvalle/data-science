{
 "cells": [
  {
   "cell_type": "markdown",
   "metadata": {},
   "source": [
    "# Recommandation par filtrage collaboratif\n",
    "## Realise par :   Donovan Daniel Del Valle Jimenez "
   ]
  },
  {
   "cell_type": "code",
   "execution_count": 5,
   "metadata": {},
   "outputs": [],
   "source": [
    "import sklearn\n",
    "import numpy as np\n",
    "import scipy as sp\n",
    "import pandas as pd\n",
    "import matplotlib.pyplot as plt\n",
    "from sklearn.cluster import KMeans\n",
    "import math \n",
    "from scipy.sparse import csr_matrix\n",
    "from sklearn.neighbors import NearestNeighbors\n",
    "from sklearn.linear_model import LogisticRegression\n",
    "from sklearn.metrics import mean_squared_error\n",
    "from sklearn.metrics import mean_absolute_error\n",
    "import itertools\n",
    "from scipy.stats import pearsonr\n",
    "from statistics import mean"
   ]
  },
  {
   "cell_type": "markdown",
   "metadata": {},
   "source": [
    "Données : "
   ]
  },
  {
   "cell_type": "code",
   "execution_count": 6,
   "metadata": {},
   "outputs": [
    {
     "data": {
      "text/plain": [
       "(1682, 3)"
      ]
     },
     "execution_count": 6,
     "metadata": {},
     "output_type": "execute_result"
    }
   ],
   "source": [
    "#Chargement des données\n",
    "data_file = 'ml-100k/u.data'\n",
    "data = pd.read_csv(data_file, sep='\\t', names=['user_id','movie_id','rating','timestamp'])\n",
    "data_file = 'ml-100k/u.item'\n",
    "movies_info = pd.read_csv(data_file, sep='|', names=['movie_id', 'movie title','release date', 'video release date','IMDb URL', 'unknown', 'Action', 'Adventure', 'Animation', 'Childrens', 'Comedy', 'Crime', 'Documentary', 'Drama', 'Fantasy', 'Film-Noir', 'Horror', 'Musical', 'Mystery', 'Romance', 'Sci-Fi', 'Thriller', 'War', 'Western'], encoding='latin-1')\n",
    "movies_info = movies_info.drop(['video release date','IMDb URL', 'unknown', 'Action', 'Adventure', 'Animation', 'Childrens', 'Comedy', 'Crime', 'Documentary', 'Drama', 'Fantasy', 'Film-Noir', 'Horror', 'Musical', 'Mystery', 'Romance', 'Sci-Fi', 'Thriller', 'War', 'Western'], axis = 1)\n",
    "data_file = 'ml-100k/u.user'\n",
    "users = pd.read_csv(data_file, sep='|', names=[\"user_id\", \"Age\", \"Gender\", \"Occupation\", \"Zip-code\"])\n",
    "data_file = 'ml-100k/u.occupation'\n",
    "occupation = pd.read_csv(data_file, names=[\"Occupation\"])\n",
    "movies_info.head()\n",
    "movies_info.shape"
   ]
  },
  {
   "cell_type": "code",
   "execution_count": 7,
   "metadata": {},
   "outputs": [],
   "source": [
    "# Getting the rating given by a user to a movie.\n",
    "def get_rating_(userid,movieid):\n",
    "    return ( data_train.loc[( data_train.user_id==userid) & ( data_train.movie_id == movieid),'rating'].iloc[0])# Getting the list of all movie ids the specified user has rated.\n",
    "def get_movieids_(userid):\n",
    "    return ( data_train.loc[( data_train.user_id==userid),'movie_id'].tolist())# Getting the movie titles against the movie id.\n",
    "def get_movie_title_(movieid):\n",
    "    return (movies.loc[(movies.movie_id == movieid),'movie_title'].iloc[0])"
   ]
  },
  {
   "cell_type": "code",
   "execution_count": 8,
   "metadata": {
    "scrolled": true
   },
   "outputs": [
    {
     "name": "stdout",
     "output_type": "stream",
     "text": [
      "Pour  ml-100k/u1.base\n",
      "et  ml-100k/u1.test\n"
     ]
    },
    {
     "name": "stderr",
     "output_type": "stream",
     "text": [
      "C:\\Users\\Fdelv\\AppData\\Local\\Programs\\Python\\Python39\\lib\\site-packages\\sklearn\\metrics\\_regression.py:91: FutureWarning: Arrays of bytes/strings is being converted to decimal numbers if dtype='numeric'. This behavior is deprecated in 0.24 and will be removed in 1.1 (renaming of 0.26). Please convert your data to numeric values explicitly instead.\n",
      "  y_pred = check_array(y_pred, ensure_2d=False, dtype=dtype)\n",
      "C:\\Users\\Fdelv\\AppData\\Local\\Programs\\Python\\Python39\\lib\\site-packages\\sklearn\\metrics\\_regression.py:91: FutureWarning: Arrays of bytes/strings is being converted to decimal numbers if dtype='numeric'. This behavior is deprecated in 0.24 and will be removed in 1.1 (renaming of 0.26). Please convert your data to numeric values explicitly instead.\n",
      "  y_pred = check_array(y_pred, ensure_2d=False, dtype=dtype)\n"
     ]
    },
    {
     "name": "stdout",
     "output_type": "stream",
     "text": [
      "mae_train: 3.396871123448538\n",
      "rmse:_train 4.335806755930569\n"
     ]
    },
    {
     "name": "stderr",
     "output_type": "stream",
     "text": [
      "C:\\Users\\Fdelv\\AppData\\Local\\Programs\\Python\\Python39\\lib\\site-packages\\sklearn\\metrics\\_regression.py:91: FutureWarning: Arrays of bytes/strings is being converted to decimal numbers if dtype='numeric'. This behavior is deprecated in 0.24 and will be removed in 1.1 (renaming of 0.26). Please convert your data to numeric values explicitly instead.\n",
      "  y_pred = check_array(y_pred, ensure_2d=False, dtype=dtype)\n",
      "C:\\Users\\Fdelv\\AppData\\Local\\Programs\\Python\\Python39\\lib\\site-packages\\sklearn\\metrics\\_regression.py:91: FutureWarning: Arrays of bytes/strings is being converted to decimal numbers if dtype='numeric'. This behavior is deprecated in 0.24 and will be removed in 1.1 (renaming of 0.26). Please convert your data to numeric values explicitly instead.\n",
      "  y_pred = check_array(y_pred, ensure_2d=False, dtype=dtype)\n"
     ]
    },
    {
     "name": "stdout",
     "output_type": "stream",
     "text": [
      "mae_test: 3.267713966691211\n",
      "rmse:_test 4.331293803715395\n",
      "Pour  ml-100k/u2.base\n",
      "et  ml-100k/u2.test\n"
     ]
    },
    {
     "name": "stderr",
     "output_type": "stream",
     "text": [
      "C:\\Users\\Fdelv\\AppData\\Local\\Programs\\Python\\Python39\\lib\\site-packages\\sklearn\\metrics\\_regression.py:91: FutureWarning: Arrays of bytes/strings is being converted to decimal numbers if dtype='numeric'. This behavior is deprecated in 0.24 and will be removed in 1.1 (renaming of 0.26). Please convert your data to numeric values explicitly instead.\n",
      "  y_pred = check_array(y_pred, ensure_2d=False, dtype=dtype)\n",
      "C:\\Users\\Fdelv\\AppData\\Local\\Programs\\Python\\Python39\\lib\\site-packages\\sklearn\\metrics\\_regression.py:91: FutureWarning: Arrays of bytes/strings is being converted to decimal numbers if dtype='numeric'. This behavior is deprecated in 0.24 and will be removed in 1.1 (renaming of 0.26). Please convert your data to numeric values explicitly instead.\n",
      "  y_pred = check_array(y_pred, ensure_2d=False, dtype=dtype)\n"
     ]
    },
    {
     "name": "stdout",
     "output_type": "stream",
     "text": [
      "mae_train: 3.454900053264825\n",
      "rmse:_train 4.221579304735237\n"
     ]
    },
    {
     "name": "stderr",
     "output_type": "stream",
     "text": [
      "C:\\Users\\Fdelv\\AppData\\Local\\Programs\\Python\\Python39\\lib\\site-packages\\sklearn\\metrics\\_regression.py:91: FutureWarning: Arrays of bytes/strings is being converted to decimal numbers if dtype='numeric'. This behavior is deprecated in 0.24 and will be removed in 1.1 (renaming of 0.26). Please convert your data to numeric values explicitly instead.\n",
      "  y_pred = check_array(y_pred, ensure_2d=False, dtype=dtype)\n",
      "C:\\Users\\Fdelv\\AppData\\Local\\Programs\\Python\\Python39\\lib\\site-packages\\sklearn\\metrics\\_regression.py:91: FutureWarning: Arrays of bytes/strings is being converted to decimal numbers if dtype='numeric'. This behavior is deprecated in 0.24 and will be removed in 1.1 (renaming of 0.26). Please convert your data to numeric values explicitly instead.\n",
      "  y_pred = check_array(y_pred, ensure_2d=False, dtype=dtype)\n"
     ]
    },
    {
     "name": "stdout",
     "output_type": "stream",
     "text": [
      "mae_test: 3.225561572389248\n",
      "rmse:_test 4.559795740696768\n",
      "Pour  ml-100k/u3.base\n",
      "et  ml-100k/u3.test\n"
     ]
    },
    {
     "name": "stderr",
     "output_type": "stream",
     "text": [
      "C:\\Users\\Fdelv\\AppData\\Local\\Programs\\Python\\Python39\\lib\\site-packages\\sklearn\\metrics\\_regression.py:91: FutureWarning: Arrays of bytes/strings is being converted to decimal numbers if dtype='numeric'. This behavior is deprecated in 0.24 and will be removed in 1.1 (renaming of 0.26). Please convert your data to numeric values explicitly instead.\n",
      "  y_pred = check_array(y_pred, ensure_2d=False, dtype=dtype)\n",
      "C:\\Users\\Fdelv\\AppData\\Local\\Programs\\Python\\Python39\\lib\\site-packages\\sklearn\\metrics\\_regression.py:91: FutureWarning: Arrays of bytes/strings is being converted to decimal numbers if dtype='numeric'. This behavior is deprecated in 0.24 and will be removed in 1.1 (renaming of 0.26). Please convert your data to numeric values explicitly instead.\n",
      "  y_pred = check_array(y_pred, ensure_2d=False, dtype=dtype)\n"
     ]
    },
    {
     "name": "stdout",
     "output_type": "stream",
     "text": [
      "mae_train: 3.523954258282427\n",
      "rmse:_train 4.58561014984372\n"
     ]
    },
    {
     "name": "stderr",
     "output_type": "stream",
     "text": [
      "C:\\Users\\Fdelv\\AppData\\Local\\Programs\\Python\\Python39\\lib\\site-packages\\sklearn\\metrics\\_regression.py:91: FutureWarning: Arrays of bytes/strings is being converted to decimal numbers if dtype='numeric'. This behavior is deprecated in 0.24 and will be removed in 1.1 (renaming of 0.26). Please convert your data to numeric values explicitly instead.\n",
      "  y_pred = check_array(y_pred, ensure_2d=False, dtype=dtype)\n",
      "C:\\Users\\Fdelv\\AppData\\Local\\Programs\\Python\\Python39\\lib\\site-packages\\sklearn\\metrics\\_regression.py:91: FutureWarning: Arrays of bytes/strings is being converted to decimal numbers if dtype='numeric'. This behavior is deprecated in 0.24 and will be removed in 1.1 (renaming of 0.26). Please convert your data to numeric values explicitly instead.\n",
      "  y_pred = check_array(y_pred, ensure_2d=False, dtype=dtype)\n"
     ]
    },
    {
     "name": "stdout",
     "output_type": "stream",
     "text": [
      "mae_test: 2.937632430050758\n",
      "rmse:_test 3.400920902480804\n",
      "Pour  ml-100k/u4.base\n",
      "et  ml-100k/u4.test\n"
     ]
    },
    {
     "name": "stderr",
     "output_type": "stream",
     "text": [
      "C:\\Users\\Fdelv\\AppData\\Local\\Programs\\Python\\Python39\\lib\\site-packages\\sklearn\\metrics\\_regression.py:91: FutureWarning: Arrays of bytes/strings is being converted to decimal numbers if dtype='numeric'. This behavior is deprecated in 0.24 and will be removed in 1.1 (renaming of 0.26). Please convert your data to numeric values explicitly instead.\n",
      "  y_pred = check_array(y_pred, ensure_2d=False, dtype=dtype)\n",
      "C:\\Users\\Fdelv\\AppData\\Local\\Programs\\Python\\Python39\\lib\\site-packages\\sklearn\\metrics\\_regression.py:91: FutureWarning: Arrays of bytes/strings is being converted to decimal numbers if dtype='numeric'. This behavior is deprecated in 0.24 and will be removed in 1.1 (renaming of 0.26). Please convert your data to numeric values explicitly instead.\n",
      "  y_pred = check_array(y_pred, ensure_2d=False, dtype=dtype)\n"
     ]
    },
    {
     "name": "stdout",
     "output_type": "stream",
     "text": [
      "mae_train: 3.6025382728829465\n",
      "rmse:_train 4.93687047505449\n"
     ]
    },
    {
     "name": "stderr",
     "output_type": "stream",
     "text": [
      "C:\\Users\\Fdelv\\AppData\\Local\\Programs\\Python\\Python39\\lib\\site-packages\\sklearn\\metrics\\_regression.py:91: FutureWarning: Arrays of bytes/strings is being converted to decimal numbers if dtype='numeric'. This behavior is deprecated in 0.24 and will be removed in 1.1 (renaming of 0.26). Please convert your data to numeric values explicitly instead.\n",
      "  y_pred = check_array(y_pred, ensure_2d=False, dtype=dtype)\n",
      "C:\\Users\\Fdelv\\AppData\\Local\\Programs\\Python\\Python39\\lib\\site-packages\\sklearn\\metrics\\_regression.py:91: FutureWarning: Arrays of bytes/strings is being converted to decimal numbers if dtype='numeric'. This behavior is deprecated in 0.24 and will be removed in 1.1 (renaming of 0.26). Please convert your data to numeric values explicitly instead.\n",
      "  y_pred = check_array(y_pred, ensure_2d=False, dtype=dtype)\n"
     ]
    },
    {
     "name": "stdout",
     "output_type": "stream",
     "text": [
      "mae_test: 2.7403060886482757\n",
      "rmse:_test 2.967223309756575\n",
      "Pour  ml-100k/u5.base\n",
      "et  ml-100k/u5.test\n"
     ]
    },
    {
     "name": "stderr",
     "output_type": "stream",
     "text": [
      "C:\\Users\\Fdelv\\AppData\\Local\\Programs\\Python\\Python39\\lib\\site-packages\\sklearn\\metrics\\_regression.py:91: FutureWarning: Arrays of bytes/strings is being converted to decimal numbers if dtype='numeric'. This behavior is deprecated in 0.24 and will be removed in 1.1 (renaming of 0.26). Please convert your data to numeric values explicitly instead.\n",
      "  y_pred = check_array(y_pred, ensure_2d=False, dtype=dtype)\n",
      "C:\\Users\\Fdelv\\AppData\\Local\\Programs\\Python\\Python39\\lib\\site-packages\\sklearn\\metrics\\_regression.py:91: FutureWarning: Arrays of bytes/strings is being converted to decimal numbers if dtype='numeric'. This behavior is deprecated in 0.24 and will be removed in 1.1 (renaming of 0.26). Please convert your data to numeric values explicitly instead.\n",
      "  y_pred = check_array(y_pred, ensure_2d=False, dtype=dtype)\n"
     ]
    },
    {
     "name": "stdout",
     "output_type": "stream",
     "text": [
      "mae_train: 3.578374026090052\n",
      "rmse:_train 4.669533747574818\n",
      "mae_test: 2.71473907464754\n",
      "rmse:_test 2.9496703699113027\n"
     ]
    },
    {
     "name": "stderr",
     "output_type": "stream",
     "text": [
      "C:\\Users\\Fdelv\\AppData\\Local\\Programs\\Python\\Python39\\lib\\site-packages\\sklearn\\metrics\\_regression.py:91: FutureWarning: Arrays of bytes/strings is being converted to decimal numbers if dtype='numeric'. This behavior is deprecated in 0.24 and will be removed in 1.1 (renaming of 0.26). Please convert your data to numeric values explicitly instead.\n",
      "  y_pred = check_array(y_pred, ensure_2d=False, dtype=dtype)\n",
      "C:\\Users\\Fdelv\\AppData\\Local\\Programs\\Python\\Python39\\lib\\site-packages\\sklearn\\metrics\\_regression.py:91: FutureWarning: Arrays of bytes/strings is being converted to decimal numbers if dtype='numeric'. This behavior is deprecated in 0.24 and will be removed in 1.1 (renaming of 0.26). Please convert your data to numeric values explicitly instead.\n",
      "  y_pred = check_array(y_pred, ensure_2d=False, dtype=dtype)\n"
     ]
    }
   ],
   "source": [
    "i=1\n",
    "mae_ar_train = []\n",
    "rmse_ar_train = []\n",
    "mae_ar_test = []\n",
    "rmse_ar_test = []\n",
    "\n",
    "for i in range(1, 6):\n",
    "    route = 'ml-100k/u'+str(i)+'.base'\n",
    "    print('Pour ', route)\n",
    "    data_train = pd.read_csv(route, sep='\\t', names=['user_id','movie_id','rating','timestamp'])\n",
    "    route = 'ml-100k/u'+str(i)+'.test'\n",
    "    print('et ', route)\n",
    "    data_test = pd.read_csv(route, sep='\\t', names=['user_id','movie_id','rating','timestamp'])\n",
    "\n",
    "    data_train = data_train.drop(columns=['timestamp']);\n",
    "    data_train = data_train.loc[0:10000];\n",
    "    data_test = data_test.drop(columns=['timestamp']);\n",
    "    data_test = data_test.loc[0:10000];\n",
    "\n",
    "    #user_corr = data_train.groupby('user_id')['rating'].agg(['count','mean']).reset_index().round(1)\n",
    "    #movies_base = pd.crosstab(data_train['movie_id'], data_train['user_id'], values = data_train['rating'], aggfunc = 'sum')\n",
    "    #movies_base = movies_base.fillna(0)\n",
    "    #users = data_train['user_id'].unique()\n",
    "\n",
    "    final_dataset = data_train.pivot(index='movie_id',columns='user_id',values='rating')\n",
    "    matrix_corr = final_dataset.corr(method=\"pearson\")\n",
    "    final_dataset_w = final_dataset*matrix_corr\n",
    "    \n",
    "    y_predict = []\n",
    "\n",
    "    for i in data_train.index:\n",
    "        final_dataset_w['index_c']=final_dataset_w.index\n",
    "        dataA=final_dataset_w.loc[final_dataset_w.index_c==data_train['movie_id'][i]]\n",
    "        dataA = dataA.sum()\n",
    "        data2 = final_dataset_w.loc[final_dataset_w.index_c==data_train['movie_id'][i]]\n",
    "        result = data2.dropna()\n",
    "        data3 = matrix_corr[result.index].abs()\n",
    "        data3['index_c']=data3.index\n",
    "        dataB = data3.loc[data3.index_c==data_train['movie_id'][i]].sum()\n",
    "        dataB = dataB.sum()\n",
    "        if(dataB>0): \n",
    "            y_predict.append(float(dataA.sum()/dataB.sum()))\n",
    "        else: \n",
    "            y_predict.append(\"0\")\n",
    "    \n",
    "    y_train=data_train.loc[:, ['rating']]\n",
    "    y_test= data_test.loc[:, ['rating']]\n",
    "    \n",
    "    mse = mean_squared_error(y_train, y_predict)\n",
    "    rmse = math.sqrt(mse)\n",
    "    mae = mean_absolute_error(y_train, y_predict)\n",
    "    print(\"mae_train:\", mae)\n",
    "    print(\"rmse:_train\", rmse)\n",
    "    mae_ar_train.append(mae)\n",
    "    rmse_ar_train.append(rmse)\n",
    "    \n",
    "    final_dataset = data_test.pivot(index='movie_id',columns='user_id',values='rating')\n",
    "    matrix_corr = final_dataset.corr(method=\"pearson\")\n",
    "    final_dataset_w = final_dataset*matrix_corr\n",
    "    \n",
    "    y_predict = []\n",
    "\n",
    "    for i in data_train.index:\n",
    "        final_dataset_w['index_c']=final_dataset_w.index\n",
    "        dataA=final_dataset_w.loc[final_dataset_w.index_c==data_test['movie_id'][i]]\n",
    "        dataA = dataA.sum()\n",
    "        data2 = final_dataset_w.loc[final_dataset_w.index_c==data_test['movie_id'][i]]\n",
    "        result = data2.dropna()\n",
    "        data3 = matrix_corr[result.index].abs()\n",
    "        data3['index_c']=data3.index\n",
    "        dataB = data3.loc[data3.index_c==data_test['movie_id'][i]].sum()\n",
    "        dataB = dataB.sum()\n",
    "        if(dataB>0): \n",
    "            y_predict.append(float(dataA.sum()/dataB.sum()))\n",
    "        else: \n",
    "            y_predict.append(\"0\")\n",
    "            \n",
    "    mse = mean_squared_error(y_test, y_predict)\n",
    "    rmse = math.sqrt(mse)\n",
    "    mae = mean_absolute_error(y_test, y_predict)\n",
    "    print(\"mae_test:\", mae)\n",
    "    print(\"rmse:_test\", rmse)\n",
    "    mae_ar_test.append(mae)\n",
    "    rmse_ar_test.append(rmse)\n",
    "    "
   ]
  },
  {
   "cell_type": "code",
   "execution_count": 9,
   "metadata": {},
   "outputs": [
    {
     "data": {
      "image/png": "[encoded data removed]",
      "text/plain": [
       "<Figure size 432x288 with 1 Axes>"
      ]
     },
     "metadata": {
      "needs_background": "light"
     },
     "output_type": "display_data"
    }
   ],
   "source": [
    "plt.plot(range(1,6), mae_ar_test)\n",
    "plt.ylabel(\"mae\")\n",
    "plt.xlabel(\"Ensemble de données\")\n",
    "plt.show()"
   ]
  },
  {
   "cell_type": "code",
   "execution_count": 164,
   "metadata": {},
   "outputs": [
    {
     "data": {
      "text/plain": [
       "2.9771906264854064"
      ]
     },
     "execution_count": 164,
     "metadata": {},
     "output_type": "execute_result"
    }
   ],
   "source": [
    "mean(mae_ar_test)"
   ]
  },
  {
   "cell_type": "code",
   "execution_count": 155,
   "metadata": {},
   "outputs": [
    {
     "name": "stdout",
     "output_type": "stream",
     "text": [
      "MAE pour l'ensemble de données Train 1-5 [3.396871123448538, 3.454900053264825, 3.523954258282427, 3.6025382728829465, 3.578374026090052]\n",
      "MAE pour l'ensemble de données Test 1-5 [3.267713966691211, 3.225561572389248, 2.937632430050758, 2.7403060886482757, 2.71473907464754]\n"
     ]
    }
   ],
   "source": [
    "print(\"MAE pour l'ensemble de données Train 1-5\", mae_ar_train)\n",
    "print(\"MAE pour l'ensemble de données Test 1-5\", mae_ar_test)"
   ]
  },
  {
   "cell_type": "code",
   "execution_count": 159,
   "metadata": {},
   "outputs": [
    {
     "data": {
      "image/png": "[encoded data removed]",
      "text/plain": [
       "<Figure size 432x288 with 1 Axes>"
      ]
     },
     "metadata": {
      "needs_background": "light"
     },
     "output_type": "display_data"
    }
   ],
   "source": [
    "plt.plot(range(1,6), rmse_ar_test)\n",
    "plt.ylabel(\"rmse\")\n",
    "plt.xlabel(\"Ensemble de données\")\n",
    "plt.show()"
   ]
  },
  {
   "cell_type": "code",
   "execution_count": 163,
   "metadata": {},
   "outputs": [
    {
     "data": {
      "text/plain": [
       "3.641780825312169"
      ]
     },
     "execution_count": 163,
     "metadata": {},
     "output_type": "execute_result"
    }
   ],
   "source": [
    "mean(rmse_ar_test)"
   ]
  },
  {
   "cell_type": "code",
   "execution_count": 2,
   "metadata": {
    "scrolled": true
   },
   "outputs": [],
   "source": [
    "#matrix_corr.head()"
   ]
  },
  {
   "cell_type": "code",
   "execution_count": 10,
   "metadata": {},
   "outputs": [
    {
     "data": {
      "text/plain": [
       "(1251, 711)"
      ]
     },
     "execution_count": 10,
     "metadata": {},
     "output_type": "execute_result"
    }
   ],
   "source": [
    "final_dataset.head()\n",
    "final_dataset.shape"
   ]
  },
  {
   "cell_type": "code",
   "execution_count": 11,
   "metadata": {},
   "outputs": [],
   "source": [
    "#final_dataset_w.head()"
   ]
  },
  {
   "cell_type": "code",
   "execution_count": 1,
   "metadata": {},
   "outputs": [],
   "source": [
    "#print('Pearson Corelation between user ids 11 & 30: {}'.format(pearson_correlation_score(1,6)))"
   ]
  },
  {
   "cell_type": "markdown",
   "metadata": {},
   "source": [
    "References\n",
    "https://betterprogramming.pub/building-a-movie-recommendation-engine-for-beginners-7161430e35b9\n",
    "https://analyticsindiamag.com/how-to-build-your-first-recommender-system-using-python-movielens-dataset/"
   ]
  }
 ],
 "metadata": {
  "kernelspec": {
   "display_name": "Python 3 (ipykernel)",
   "language": "python",
   "name": "python3"
  },
  "language_info": {
   "codemirror_mode": {
    "name": "ipython",
    "version": 3
   },
   "file_extension": ".py",
   "mimetype": "text/x-python",
   "name": "python",
   "nbconvert_exporter": "python",
   "pygments_lexer": "ipython3",
   "version": "3.9.7"
  }
 },
 "nbformat": 4,
 "nbformat_minor": 4
}
